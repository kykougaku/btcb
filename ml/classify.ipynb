{
 "cells": [
  {
   "cell_type": "code",
   "execution_count": 1,
   "metadata": {},
   "outputs": [
    {
     "name": "stderr",
     "output_type": "stream",
     "text": [
      "/home/kanai/miniconda3/lib/python3.11/site-packages/tqdm/auto.py:21: TqdmWarning: IProgress not found. Please update jupyter and ipywidgets. See https://ipywidgets.readthedocs.io/en/stable/user_install.html\n",
      "  from .autonotebook import tqdm as notebook_tqdm\n"
     ]
    }
   ],
   "source": [
    "import pandas as pd\n",
    "import numpy as np\n",
    "import matplotlib.pyplot as plt\n",
    "import talib as ta\n",
    "import optuna\n",
    "import xgboost as xgb\n",
    "from xgboost import XGBClassifier\n",
    "from xgboost import plot_importance\n",
    "from sklearn.metrics import accuracy_score\n",
    "from sklearn.model_selection import cross_val_score\n",
    "from sklearn.model_selection import train_test_split\n",
    "from sklearn.model_selection import StratifiedKFold"
   ]
  },
  {
   "cell_type": "code",
   "execution_count": 2,
   "metadata": {},
   "outputs": [],
   "source": [
    "csv_use_cols = [\"Date\", \"Open\", \"High\", \"Low\", \"Close\", \"Volume\"]\n",
    "shift = 5"
   ]
  },
  {
   "cell_type": "code",
   "execution_count": 3,
   "metadata": {},
   "outputs": [
    {
     "name": "stderr",
     "output_type": "stream",
     "text": [
      "/home/kanai/miniconda3/lib/python3.11/site-packages/numpy/lib/function_base.py:2455: RuntimeWarning: invalid value encountered in twotype_label_func (vectorized)\n",
      "  outputs = ufunc(*inputs)\n"
     ]
    }
   ],
   "source": [
    "def twotype_label_func(x):\n",
    "    if x > 0.015: return 1\n",
    "    else: return 0\n",
    "\n",
    "df = pd.read_csv(\"btcjpy_data_from_yfinance-5y-1d.csv\",usecols=csv_use_cols)\n",
    "\n",
    "df[\"diff_ratio\"] = df[\"Close\"].diff()/df[\"Close\"] \n",
    "df[\"target\"] = np.vectorize(twotype_label_func)(df[\"diff_ratio\"])\n",
    "df[\"target\"] = df[\"target\"].shift(-1)"
   ]
  },
  {
   "cell_type": "code",
   "execution_count": 4,
   "metadata": {},
   "outputs": [],
   "source": [
    "df[\"EMA5\"] = ta.EMA(df[\"Close\"], timeperiod=5)\n",
    "df[\"EMA10\"] = ta.EMA(df[\"Close\"], timeperiod=10)\n",
    "df[\"EMA25\"] = ta.EMA(df[\"Close\"], timeperiod=25)\n",
    "df[\"EMA50\"] = ta.EMA(df[\"Close\"], timeperiod=50)\n",
    "df[\"EMA75\"] = ta.EMA(df[\"Close\"], timeperiod=75)\n",
    "df[\"EMA100\"] = ta.EMA(df[\"Close\"], timeperiod=100)\n",
    "df[\"EMA200\"] = ta.EMA(df[\"Close\"], timeperiod=200)\n",
    "df[\"RSI\"] = ta.RSI(df[\"Close\"], timeperiod=14)\n",
    "df[\"MFI\"] = ta.MFI(df[\"High\"], df[\"Low\"], df[\"Close\"], df[\"Volume\"], timeperiod=14)\n",
    "\n",
    "for i in range(0, shift+1):\n",
    "    df[\"Open-{0}ratio\".format(i)] = df[\"Open\"].shift(i)/df[\"Close\"]\n",
    "    df[\"High-{0}ratio\".format(i)] = df[\"High\"].shift(i)/df[\"Close\"]\n",
    "    df[\"Low-{0}ratio\".format(i)] = df[\"Low\"].shift(i)/df[\"Close\"]\n",
    "    df[\"Close-{0}ratio\".format(i)] = df[\"Close\"].shift(i)/df[\"Close\"]\n",
    "    df[\"EMA5-{0}ratio\".format(i)] = df[\"EMA5\"].shift(i)/df[\"Close\"]\n",
    "    df[\"EMA10-{0}ratio\".format(i)] = df[\"EMA10\"].shift(i)/df[\"Close\"]\n",
    "    df[\"EMA25-{0}ratio\".format(i)] = df[\"EMA25\"].shift(i)/df[\"Close\"]\n",
    "    df[\"EMA50-{0}ratio\".format(i)] = df[\"EMA50\"].shift(i)/df[\"Close\"]\n",
    "    df[\"EMA75-{0}ratio\".format(i)] = df[\"EMA75\"].shift(i)/df[\"Close\"]\n",
    "    df[\"EMA100-{0}ratio\".format(i)] = df[\"EMA100\"].shift(i)/df[\"Close\"]\n",
    "    df[\"EMA200-{0}ratio\".format(i)] = df[\"EMA200\"].shift(i)/df[\"Close\"]\n",
    "    df[\"Volume-{0}\".format(i)] = df[\"Volume\"].shift(i)\n",
    "    df[\"RSI-{0}\".format(i)] = df[\"RSI\"].shift(i)\n",
    "    df[\"MFI-{0}\".format(i)] = df[\"MFI\"].shift(i)\n",
    "\n",
    "df.dropna(axis=0,inplace=True)\n",
    "df.reset_index(drop=True, inplace=True)"
   ]
  },
  {
   "cell_type": "code",
   "execution_count": 5,
   "metadata": {},
   "outputs": [
    {
     "name": "stdout",
     "output_type": "stream",
     "text": [
      "target\n",
      "0.0    1194\n",
      "1.0     428\n",
      "Name: count, dtype: int64\n",
      "train data\n",
      "   Open-0ratio  High-0ratio  Low-0ratio  Close-0ratio  EMA5-0ratio  \\\n",
      "0     1.014335     1.039437    0.985754           1.0     1.016703   \n",
      "1     0.979835     1.036795    0.979835           1.0     0.997220   \n",
      "2     0.979539     1.007049    0.973530           1.0     0.984018   \n",
      "3     0.929565     1.005222    0.924523           1.0     0.943365   \n",
      "4     0.975325     1.015415    0.971727           1.0     0.946791   \n",
      "\n",
      "   EMA10-0ratio  EMA25-0ratio  EMA50-0ratio  EMA75-0ratio  EMA100-0ratio  ...  \\\n",
      "0      1.012221      0.947752      0.852219      0.779448       0.722579  ...   \n",
      "1      0.992997      0.933811      0.841205      0.769672       0.713532  ...   \n",
      "2      0.977003      0.920582      0.830255      0.759806       0.704341  ...   \n",
      "3      0.925156      0.867131      0.781001      0.714273       0.661805  ...   \n",
      "4      0.920166      0.857685      0.771153      0.704704       0.652564  ...   \n",
      "\n",
      "   EMA5-5ratio  EMA10-5ratio  EMA25-5ratio  EMA50-5ratio  EMA75-5ratio  \\\n",
      "0     1.042684      1.013793      0.917378      0.817570      0.746788   \n",
      "1     0.995288      0.983949      0.901988      0.806375      0.737032   \n",
      "2     0.961934      0.958400      0.887026      0.795052      0.727056   \n",
      "3     0.918061      0.904668      0.835647      0.748183      0.683704   \n",
      "4     0.891345      0.882547      0.820339      0.735809      0.672593   \n",
      "\n",
      "   EMA100-5ratio  EMA200-5ratio      Volume-5      RSI-5      MFI-5  \n",
      "0       0.692531       0.496895  2.954111e+12  55.890169  76.771815  \n",
      "1       0.683561       0.491237  3.183537e+12  54.113475  70.111205  \n",
      "2       0.674350       0.485341  3.343863e+12  55.177332  67.208506  \n",
      "3       0.633780       0.456436  3.319339e+12  61.872442  68.743782  \n",
      "4       0.623452       0.449578  2.794660e+12  56.083666  63.243464  \n",
      "\n",
      "[5 rows x 84 columns]\n"
     ]
    }
   ],
   "source": [
    "print(df[\"target\"].value_counts())\n",
    "\n",
    "mlcols = []\n",
    "for i in range(0, shift+1):\n",
    "    mlcols.append(\"Open-{0}ratio\".format(i))\n",
    "    mlcols.append(\"High-{0}ratio\".format(i))\n",
    "    mlcols.append(\"Low-{0}ratio\".format(i))\n",
    "    mlcols.append(\"Close-{0}ratio\".format(i))\n",
    "    mlcols.append(\"EMA5-{0}ratio\".format(i))\n",
    "    mlcols.append(\"EMA10-{0}ratio\".format(i))\n",
    "    mlcols.append(\"EMA25-{0}ratio\".format(i))\n",
    "    mlcols.append(\"EMA50-{0}ratio\".format(i))\n",
    "    mlcols.append(\"EMA75-{0}ratio\".format(i))\n",
    "    mlcols.append(\"EMA100-{0}ratio\".format(i))\n",
    "    mlcols.append(\"EMA200-{0}ratio\".format(i))\n",
    "    mlcols.append(\"Volume-{0}\".format(i))\n",
    "    mlcols.append(\"RSI-{0}\".format(i))\n",
    "    mlcols.append(\"MFI-{0}\".format(i))\n",
    "\n",
    "X = df[mlcols]\n",
    "Y = df[\"target\"]\n",
    "print(\"train data\")\n",
    "print(X.head())"
   ]
  },
  {
   "cell_type": "code",
   "execution_count": 6,
   "metadata": {},
   "outputs": [],
   "source": [
    "def objective(trial,df_X,df_y):\n",
    "    params ={\n",
    "        'max_depth':trial.suggest_int(\"max_depth\",1,10),\n",
    "        'min_child_weight':trial.suggest_int('min_child_weight',1,5),\n",
    "        'gamma':trial.suggest_float('gamma',0,1),\n",
    "        'subsample':trial.suggest_float('subsample',0,1),\n",
    "        'colsample_bytree':trial.suggest_float('colsample_bytree',0,1),\n",
    "        'reg_alpha':trial.suggest_float('reg_alpha',1e-5,100,log=True),\n",
    "        'reg_lambda':trial.suggest_float('reg_lambda',1e-5,100,log=True),        \n",
    "        'learning_rate':trial.suggest_float('learning_rate',0,1)}\n",
    "\n",
    "    model = XGBClassifier(**params)\n",
    "    \n",
    "    scores = cross_val_score(model, df_X, df_y, cv=5, scoring='accuracy')\n",
    "    score_mean = scores.mean()\n",
    "    \n",
    "    return -1 * score_mean"
   ]
  },
  {
   "cell_type": "code",
   "execution_count": 8,
   "metadata": {},
   "outputs": [
    {
     "name": "stderr",
     "output_type": "stream",
     "text": [
      "[I 2024-01-28 20:51:12,991] A new study created in memory with name: no-name-c3ff8626-e948-4b7b-9c37-9cf4da2905bd\n",
      "[I 2024-01-28 20:51:13,639] Trial 0 finished with value: -0.7361291547958214 and parameters: {'max_depth': 2, 'min_child_weight': 4, 'gamma': 0.03351947875574823, 'subsample': 0.15297700541612602, 'colsample_bytree': 0.713712147425635, 'reg_alpha': 39.110617538338204, 'reg_lambda': 0.3347379574609354, 'learning_rate': 0.29400694436273167}. Best is trial 0 with value: -0.7361291547958214.\n",
      "[I 2024-01-28 20:51:14,637] Trial 1 finished with value: -0.5906229819563154 and parameters: {'max_depth': 2, 'min_child_weight': 1, 'gamma': 0.06747443847166656, 'subsample': 0.3205659108813975, 'colsample_bytree': 0.4304605035313941, 'reg_alpha': 0.000997020913521566, 'reg_lambda': 0.006677494949572486, 'learning_rate': 0.9918134872563905}. Best is trial 0 with value: -0.7361291547958214.\n",
      "[I 2024-01-28 20:51:16,087] Trial 2 finished with value: -0.6331946818613485 and parameters: {'max_depth': 3, 'min_child_weight': 3, 'gamma': 0.8218408983779083, 'subsample': 0.5892139281307631, 'colsample_bytree': 0.8786684694090011, 'reg_alpha': 0.048106728173761715, 'reg_lambda': 0.8867785144792051, 'learning_rate': 0.7039987143370213}. Best is trial 0 with value: -0.7361291547958214.\n",
      "[I 2024-01-28 20:51:16,672] Trial 3 finished with value: -0.6621253561253561 and parameters: {'max_depth': 5, 'min_child_weight': 4, 'gamma': 0.06609964573051519, 'subsample': 0.07494790931210793, 'colsample_bytree': 0.005477869843387606, 'reg_alpha': 2.0190209164302142e-05, 'reg_lambda': 0.0008698665063542405, 'learning_rate': 0.8717000276382675}. Best is trial 0 with value: -0.7361291547958214.\n",
      "[I 2024-01-28 20:51:17,209] Trial 4 finished with value: -0.6750674264007598 and parameters: {'max_depth': 1, 'min_child_weight': 2, 'gamma': 0.17818673130387142, 'subsample': 0.7715325286078302, 'colsample_bytree': 0.12557268980040937, 'reg_alpha': 0.17478056327464014, 'reg_lambda': 4.1883588875628394e-05, 'learning_rate': 0.8012431007451084}. Best is trial 0 with value: -0.7361291547958214.\n",
      "[I 2024-01-28 20:51:18,832] Trial 5 finished with value: -0.6559506172839507 and parameters: {'max_depth': 7, 'min_child_weight': 5, 'gamma': 0.29719599312712974, 'subsample': 0.5825367093909615, 'colsample_bytree': 0.5348094057221098, 'reg_alpha': 3.6653161752488126, 'reg_lambda': 0.0006200153240428511, 'learning_rate': 0.3607329832491606}. Best is trial 0 with value: -0.7361291547958214.\n",
      "[I 2024-01-28 20:51:19,869] Trial 6 finished with value: -0.6276125356125356 and parameters: {'max_depth': 3, 'min_child_weight': 5, 'gamma': 0.7285057208812402, 'subsample': 0.7350369231611372, 'colsample_bytree': 0.7264607925991547, 'reg_alpha': 0.00024210294963667958, 'reg_lambda': 0.0005954356864187651, 'learning_rate': 0.2896960420866709}. Best is trial 0 with value: -0.7361291547958214.\n",
      "[I 2024-01-28 20:51:20,451] Trial 7 finished with value: -0.7361291547958214 and parameters: {'max_depth': 10, 'min_child_weight': 4, 'gamma': 0.47109685268973445, 'subsample': 0.018482926223471474, 'colsample_bytree': 0.40306857418856423, 'reg_alpha': 0.00014296484100552063, 'reg_lambda': 0.13026404872943728, 'learning_rate': 0.07134236835758945}. Best is trial 0 with value: -0.7361291547958214.\n",
      "[I 2024-01-28 20:51:21,962] Trial 8 finished with value: -0.6362488129154796 and parameters: {'max_depth': 6, 'min_child_weight': 5, 'gamma': 0.9883736954817768, 'subsample': 0.6703894914820416, 'colsample_bytree': 0.5291733272769237, 'reg_alpha': 0.03751854932121072, 'reg_lambda': 0.0018168936645775581, 'learning_rate': 0.29265564504067565}. Best is trial 0 with value: -0.7361291547958214.\n",
      "[I 2024-01-28 20:51:26,122] Trial 9 finished with value: -0.7120987654320986 and parameters: {'max_depth': 8, 'min_child_weight': 5, 'gamma': 0.5093272398000038, 'subsample': 0.9317089319292098, 'colsample_bytree': 0.9679572650021152, 'reg_alpha': 0.2244996679609398, 'reg_lambda': 0.00485593377054985, 'learning_rate': 0.01925138416278449}. Best is trial 0 with value: -0.7361291547958214.\n",
      "[I 2024-01-28 20:51:26,705] Trial 10 finished with value: -0.7361291547958214 and parameters: {'max_depth': 4, 'min_child_weight': 3, 'gamma': 0.372601099067291, 'subsample': 0.29493866593985857, 'colsample_bytree': 0.699594584559128, 'reg_alpha': 98.0475923990424, 'reg_lambda': 16.050680772367816, 'learning_rate': 0.551521579444691}. Best is trial 0 with value: -0.7361291547958214.\n",
      "[I 2024-01-28 20:51:27,325] Trial 11 finished with value: -0.7361291547958214 and parameters: {'max_depth': 10, 'min_child_weight': 4, 'gamma': 0.5553410569180766, 'subsample': 0.04385397040528649, 'colsample_bytree': 0.30276172297197446, 'reg_alpha': 0.000815629020472103, 'reg_lambda': 0.3227969050710431, 'learning_rate': 0.00493596758138759}. Best is trial 0 with value: -0.7361291547958214.\n",
      "[I 2024-01-28 20:51:28,162] Trial 12 finished with value: -0.7361291547958214 and parameters: {'max_depth': 10, 'min_child_weight': 4, 'gamma': 0.323524714548009, 'subsample': 0.24235132323732278, 'colsample_bytree': 0.31579535841596174, 'reg_alpha': 31.29839689643245, 'reg_lambda': 0.15396812607770524, 'learning_rate': 0.16855510347331082}. Best is trial 0 with value: -0.7361291547958214.\n",
      "[I 2024-01-28 20:51:29,084] Trial 13 finished with value: -0.7361291547958214 and parameters: {'max_depth': 8, 'min_child_weight': 4, 'gamma': 0.6761075876339231, 'subsample': 0.0012951240835346878, 'colsample_bytree': 0.7041435059120641, 'reg_alpha': 1.130345799800201e-05, 'reg_lambda': 6.004415498727619, 'learning_rate': 0.47312040821678536}. Best is trial 0 with value: -0.7361291547958214.\n",
      "[I 2024-01-28 20:51:29,749] Trial 14 finished with value: -0.732434947768281 and parameters: {'max_depth': 1, 'min_child_weight': 2, 'gamma': 0.22046107139042748, 'subsample': 0.19542885864718185, 'colsample_bytree': 0.3735883470224935, 'reg_alpha': 4.380002902448203, 'reg_lambda': 0.054527996537938585, 'learning_rate': 0.1347146558851989}. Best is trial 0 with value: -0.7361291547958214.\n",
      "[I 2024-01-28 20:51:31,702] Trial 15 finished with value: -0.6596809116809116 and parameters: {'max_depth': 5, 'min_child_weight': 3, 'gamma': 0.40872752204252116, 'subsample': 0.39537142599322816, 'colsample_bytree': 0.5972610798027806, 'reg_alpha': 0.002855734652094785, 'reg_lambda': 2.2018796239728067, 'learning_rate': 0.16187466535488287}. Best is trial 0 with value: -0.7361291547958214.\n",
      "[I 2024-01-28 20:51:32,542] Trial 16 finished with value: -0.7238119658119657 and parameters: {'max_depth': 9, 'min_child_weight': 3, 'gamma': 0.04004099490680825, 'subsample': 0.14165324288108838, 'colsample_bytree': 0.1789969200548404, 'reg_alpha': 8.794986664073314e-05, 'reg_lambda': 71.50866124527323, 'learning_rate': 0.4427080556957648}. Best is trial 0 with value: -0.7361291547958214.\n",
      "[I 2024-01-28 20:51:34,201] Trial 17 finished with value: -0.6140474833808167 and parameters: {'max_depth': 7, 'min_child_weight': 4, 'gamma': 0.9620540484424419, 'subsample': 0.4258641988659648, 'colsample_bytree': 0.8273822649019317, 'reg_alpha': 0.005673794709341363, 'reg_lambda': 0.055014289841360565, 'learning_rate': 0.6079520394122637}. Best is trial 0 with value: -0.7361291547958214.\n",
      "[I 2024-01-28 20:51:35,404] Trial 18 finished with value: -0.626400759734093 and parameters: {'max_depth': 4, 'min_child_weight': 2, 'gamma': 0.579281397078683, 'subsample': 0.13646898660588255, 'colsample_bytree': 0.6178436095325732, 'reg_alpha': 1.397863224804852, 'reg_lambda': 0.6655500480464102, 'learning_rate': 0.24280904642061774}. Best is trial 0 with value: -0.7361291547958214.\n",
      "[I 2024-01-28 20:51:36,722] Trial 19 finished with value: -0.647960113960114 and parameters: {'max_depth': 6, 'min_child_weight': 4, 'gamma': 0.18201701530824457, 'subsample': 0.4332674261104892, 'colsample_bytree': 0.21555736922729596, 'reg_alpha': 0.007765379115475745, 'reg_lambda': 1.4490131154574846e-05, 'learning_rate': 0.10954002951442454}. Best is trial 0 with value: -0.7361291547958214.\n"
     ]
    },
    {
     "name": "stdout",
     "output_type": "stream",
     "text": [
      "best params\n",
      "{'max_depth': 2, 'min_child_weight': 4, 'gamma': 0.03351947875574823, 'subsample': 0.15297700541612602, 'colsample_bytree': 0.713712147425635, 'reg_alpha': 39.110617538338204, 'reg_lambda': 0.3347379574609354, 'learning_rate': 0.29400694436273167}\n"
     ]
    },
    {
     "data": {
      "image/png": "[encoded data removed]",
      "text/plain": [
       "<Figure size 640x480 with 1 Axes>"
      ]
     },
     "metadata": {},
     "output_type": "display_data"
    }
   ],
   "source": [
    "study = optuna.create_study()\n",
    "study.optimize(lambda trial: objective(trial,X,Y), n_trials=20)\n",
    "print(\"best params\")\n",
    "print(study.best_params)\n",
    "\n",
    "best_params_training_data = xgb.cv(study.best_params, xgb.DMatrix(X, label=Y), num_boost_round=1000, nfold=5, metrics='auc', seed=0)\n",
    "plt.plot(best_params_training_data)\n",
    "plt.legend(best_params_training_data.columns)\n",
    "plt.savefig(\"best_params_training_data.png\")\n",
    "plt.show()"
   ]
  },
  {
   "cell_type": "code",
   "execution_count": 9,
   "metadata": {},
   "outputs": [
    {
     "name": "stdout",
     "output_type": "stream",
     "text": [
      "accuracy_score\n",
      "0.7876923076923077\n"
     ]
    },
    {
     "data": {
      "image/png": "[encoded data removed]",
      "text/plain": [
       "<Figure size 640x480 with 1 Axes>"
      ]
     },
     "metadata": {},
     "output_type": "display_data"
    }
   ],
   "source": [
    "X_train, X_test, Y_train, Y_test = train_test_split(X, Y, test_size=0.2, shuffle=False)\n",
    "model = XGBClassifier(**study.best_params)\n",
    "model.fit(X_train, Y_train)\n",
    "Y_pred = model.predict(X_test)\n",
    "print(\"accuracy_score\")\n",
    "print(accuracy_score(Y_test, Y_pred))\n",
    "plt.scatter(Y_test, Y_pred)\n",
    "plt.xlabel(\"Actual\")\n",
    "plt.ylabel(\"Predicted\")\n",
    "plt.savefig(\"prediction.png\")\n",
    "plt.show()"
   ]
  },
  {
   "cell_type": "code",
   "execution_count": 10,
   "metadata": {},
   "outputs": [
    {
     "ename": "ValueError",
     "evalue": "Booster.get_score() results in empty.  This maybe caused by having all trees as decision dumps.",
     "output_type": "error",
     "traceback": [
      "\u001b[0;31m---------------------------------------------------------------------------\u001b[0m",
      "\u001b[0;31mValueError\u001b[0m                                Traceback (most recent call last)",
      "Cell \u001b[0;32mIn[10], line 2\u001b[0m\n\u001b[1;32m      1\u001b[0m fig \u001b[38;5;241m=\u001b[39m plt\u001b[38;5;241m.\u001b[39mfigure(figsize\u001b[38;5;241m=\u001b[39m(\u001b[38;5;241m30\u001b[39m,\u001b[38;5;241m30\u001b[39m),dpi\u001b[38;5;241m=\u001b[39m\u001b[38;5;241m50\u001b[39m)\n\u001b[0;32m----> 2\u001b[0m \u001b[43mplot_importance\u001b[49m\u001b[43m(\u001b[49m\u001b[43mmodel\u001b[49m\u001b[43m)\u001b[49m\n\u001b[1;32m      3\u001b[0m plt\u001b[38;5;241m.\u001b[39msavefig(\u001b[38;5;124m\"\u001b[39m\u001b[38;5;124mfeature_importance.png\u001b[39m\u001b[38;5;124m\"\u001b[39m)\n\u001b[1;32m      4\u001b[0m plt\u001b[38;5;241m.\u001b[39mshow()\n",
      "File \u001b[0;32m~/miniconda3/lib/python3.11/site-packages/xgboost/plotting.py:99\u001b[0m, in \u001b[0;36mplot_importance\u001b[0;34m(booster, ax, height, xlim, ylim, title, xlabel, ylabel, fmap, importance_type, max_num_features, grid, show_values, values_format, **kwargs)\u001b[0m\n\u001b[1;32m     96\u001b[0m     \u001b[38;5;28;01mraise\u001b[39;00m \u001b[38;5;167;01mValueError\u001b[39;00m(\u001b[38;5;124m\"\u001b[39m\u001b[38;5;124mtree must be Booster, XGBModel or dict instance\u001b[39m\u001b[38;5;124m\"\u001b[39m)\n\u001b[1;32m     98\u001b[0m \u001b[38;5;28;01mif\u001b[39;00m \u001b[38;5;129;01mnot\u001b[39;00m importance:\n\u001b[0;32m---> 99\u001b[0m     \u001b[38;5;28;01mraise\u001b[39;00m \u001b[38;5;167;01mValueError\u001b[39;00m(\n\u001b[1;32m    100\u001b[0m         \u001b[38;5;124m\"\u001b[39m\u001b[38;5;124mBooster.get_score() results in empty.  \u001b[39m\u001b[38;5;124m\"\u001b[39m\n\u001b[1;32m    101\u001b[0m         \u001b[38;5;241m+\u001b[39m \u001b[38;5;124m\"\u001b[39m\u001b[38;5;124mThis maybe caused by having all trees as decision dumps.\u001b[39m\u001b[38;5;124m\"\u001b[39m\n\u001b[1;32m    102\u001b[0m     )\n\u001b[1;32m    104\u001b[0m tuples \u001b[38;5;241m=\u001b[39m [(k, importance[k]) \u001b[38;5;28;01mfor\u001b[39;00m k \u001b[38;5;129;01min\u001b[39;00m importance]\n\u001b[1;32m    105\u001b[0m \u001b[38;5;28;01mif\u001b[39;00m max_num_features \u001b[38;5;129;01mis\u001b[39;00m \u001b[38;5;129;01mnot\u001b[39;00m \u001b[38;5;28;01mNone\u001b[39;00m:\n\u001b[1;32m    106\u001b[0m     \u001b[38;5;66;03m# pylint: disable=invalid-unary-operand-type\u001b[39;00m\n",
      "\u001b[0;31mValueError\u001b[0m: Booster.get_score() results in empty.  This maybe caused by having all trees as decision dumps."
     ]
    },
    {
     "data": {
      "text/plain": [
       "<Figure size 1500x1500 with 0 Axes>"
      ]
     },
     "metadata": {},
     "output_type": "display_data"
    }
   ],
   "source": [
    "fig = plt.figure(figsize=(30,30),dpi=50)\n",
    "plot_importance(model)\n",
    "plt.savefig(\"feature_importance.png\")\n",
    "plt.show()"
   ]
  }
 ],
 "metadata": {
  "kernelspec": {
   "display_name": "base",
   "language": "python",
   "name": "python3"
  },
  "language_info": {
   "codemirror_mode": {
    "name": "ipython",
    "version": 3
   },
   "file_extension": ".py",
   "mimetype": "text/x-python",
   "name": "python",
   "nbconvert_exporter": "python",
   "pygments_lexer": "ipython3",
   "version": "3.11.5"
  }
 },
 "nbformat": 4,
 "nbformat_minor": 2
}
